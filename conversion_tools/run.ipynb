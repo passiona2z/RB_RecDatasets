{
 "cells": [
  {
   "cell_type": "code",
   "execution_count": 3,
   "id": "f310ca14-9a80-4425-a86f-65153c15c3e2",
   "metadata": {},
   "outputs": [
    {
     "name": "stdout",
     "output_type": "stream",
     "text": [
      "The autoreload extension is already loaded. To reload it, use:\n",
      "  %reload_ext autoreload\n"
     ]
    }
   ],
   "source": [
    "%load_ext autoreload\n",
    "%autoreload 2\n",
    "\n",
    "import importlib"
   ]
  },
  {
   "cell_type": "code",
   "execution_count": 5,
   "id": "c986bec5-971b-4b90-a32a-1a5f9d7bcb39",
   "metadata": {},
   "outputs": [],
   "source": [
    "# AmazonMusicalInstrumentsDataset_review\n",
    "# AmazonOfficeProductsDataset_review\n",
    "# AmazonToysAndGamesDataset_review\n",
    "# AmazonBeautyDataset_review\n",
    "# AmazonDigitalMusicDataset_review\n",
    "# AmazonAutomotiveDataset_review\n",
    "# AmazonGroceryAndGourmetFoodDataset_review\n",
    "\n",
    "\n",
    "dataset_class_name = 'AmazonMusicalInstrumentsDataset_review'\n",
    "dataset_name = 'MI' # shortcut\n",
    "\n",
    "dataset_class = getattr(importlib.import_module('src.extended_dataset'), dataset_class_name)\n",
    "data = dataset_class(\"\", 'output_data/' + dataset_name)"
   ]
  },
  {
   "cell_type": "code",
   "execution_count": 6,
   "id": "06354099-d7db-4f9a-8bfa-1cedf4b33f9a",
   "metadata": {},
   "outputs": [
    {
     "name": "stdout",
     "output_type": "stream",
     "text": [
      "review filtering -  drop len:7, drop index: [2927 4401 8739 9175 9306 9313 9342]\n"
     ]
    }
   ],
   "source": [
    "data.convert_inter()"
   ]
  },
  {
   "cell_type": "code",
   "execution_count": null,
   "id": "b8543227-198a-4f3c-a409-665337a2845d",
   "metadata": {},
   "outputs": [],
   "source": []
  }
 ],
 "metadata": {
  "kernelspec": {
   "display_name": "Python 3 (ipykernel)",
   "language": "python",
   "name": "python3"
  },
  "language_info": {
   "codemirror_mode": {
    "name": "ipython",
    "version": 3
   },
   "file_extension": ".py",
   "mimetype": "text/x-python",
   "name": "python",
   "nbconvert_exporter": "python",
   "pygments_lexer": "ipython3",
   "version": "3.9.12"
  }
 },
 "nbformat": 4,
 "nbformat_minor": 5
}
